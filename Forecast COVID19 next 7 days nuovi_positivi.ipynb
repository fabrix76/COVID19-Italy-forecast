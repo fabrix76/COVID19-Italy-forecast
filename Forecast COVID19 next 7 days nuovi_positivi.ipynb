{
 "cells": [
  {
   "cell_type": "code",
   "execution_count": 1,
   "metadata": {},
   "outputs": [],
   "source": [
    "import pandas as pd\n",
    "from datetime import date\n",
    "import math\n",
    "import matplotlib.pyplot as plt\n",
    "import datetime as dt\n",
    "import numpy as np\n",
    "from tensorflow import keras\n",
    "from keras.models import load_model\n",
    "from keras.models import Sequential\n",
    "from keras.layers import Dense\n",
    "from keras.layers import LSTM\n",
    "from sklearn.preprocessing import MinMaxScaler\n",
    "from sklearn.metrics import mean_squared_error\n",
    "import requests"
   ]
  },
  {
   "cell_type": "markdown",
   "metadata": {},
   "source": [
    "## **Load neuralnet model and data preparation**\n",
    "Carico la neuralnet trainata con i dati storici, successivamente carico i dati dal repository GitHub della Protezione Civile e li preparo, prendendo gli ultimi 14 giorni del dataframe, convertendolo in array Numpy e scalarlo a valori in range 0-1"
   ]
  },
  {
   "cell_type": "code",
   "execution_count": 2,
   "metadata": {},
   "outputs": [],
   "source": [
    "## Load model\n",
    "\n",
    "mod_name = 'https://github.com/fabrix76/COVID19-Italy-forecast/raw/master/LSTM32-dense10-dense1_nuovi_positivi_simple.h5'\n",
    "model_file = requests.get(mod_name)\n",
    "open('LSTM32-dense10-dense1_nuovi_positivi_simple.h5', 'wb').write(model_file.content)\n",
    "model = load_model('LSTM32-dense10-dense1_nuovi_positivi_simple.h5')"
   ]
  },
  {
   "cell_type": "code",
   "execution_count": 3,
   "metadata": {},
   "outputs": [],
   "source": [
    "# Scarico il dataset\n",
    "df = pd.read_csv(\"https://raw.githubusercontent.com/pcm-dpc/COVID-19/master/dati-regioni/dpc-covid19-ita-regioni.csv\", \n",
    "    usecols=['data','denominazione_regione','lat','long','ricoverati_con_sintomi','terapia_intensiva',\n",
    "             'totale_ospedalizzati','isolamento_domiciliare','totale_positivi','variazione_totale_positivi',\n",
    "             'nuovi_positivi','dimessi_guariti','deceduti','casi_da_sospetto_diagnostico','casi_da_screening',\n",
    "             'totale_casi','tamponi','casi_testati'])\n",
    "df['data'] = pd.to_datetime(df['data'])\n",
    "df['data'] = pd.to_datetime(df['data'].dt.strftime('%Y-%m-%d'))\n",
    "# Calcolo il totale positivi per giorno, perchè il dataset ha il totale per regione\n",
    "df = df.set_index('data').resample('1d').agg({'nuovi_positivi': 'sum'})\n",
    "\n",
    "df = df.tail(14)"
   ]
  },
  {
   "cell_type": "code",
   "execution_count": 4,
   "metadata": {},
   "outputs": [],
   "source": [
    "# fix random seed for reproducibility\n",
    "np.random.seed(7)"
   ]
  },
  {
   "cell_type": "code",
   "execution_count": 5,
   "metadata": {},
   "outputs": [],
   "source": [
    "dataset = df.values\n",
    "dataset = dataset.astype('float32')"
   ]
  },
  {
   "cell_type": "code",
   "execution_count": 6,
   "metadata": {},
   "outputs": [],
   "source": [
    "# normalize the dataset\n",
    "scaler = MinMaxScaler(feature_range=(0, 1))\n",
    "dataset = scaler.fit_transform(dataset) "
   ]
  },
  {
   "cell_type": "code",
   "execution_count": 7,
   "metadata": {},
   "outputs": [
    {
     "name": "stdout",
     "output_type": "stream",
     "text": [
      "14\n"
     ]
    }
   ],
   "source": [
    "print(len(dataset))"
   ]
  },
  {
   "cell_type": "markdown",
   "metadata": {},
   "source": [
    "## **Forecast**\n",
    "\n",
    "Predispongo l'array per contenere i risultati, e faccio le predizioni con un ciclo. Al tempo t0 utilizzo gli ultimi 14 valori misurati, al tempo t1 tolgo la lettura più vecchia ed appendo alla fine dell'array il valore predetto dalla neuralnet per fare la previsione successiva e così via fino alla fine del ciclo"
   ]
  },
  {
   "cell_type": "code",
   "execution_count": 8,
   "metadata": {},
   "outputs": [
    {
     "name": "stdout",
     "output_type": "stream",
     "text": [
      "2020-09-29\n"
     ]
    }
   ],
   "source": [
    "next_week = np.empty(1)\n",
    "next_week = np.nan\n",
    "next_week = np.delete(next_week, 0)\n",
    "for i in range(1, 8):\n",
    "    # reshape per la NN\n",
    "    ndX = np.reshape(dataset, (dataset.shape[1], 1, dataset.shape[0]))\n",
    "    \n",
    "    #carico in r il risultato della previsione\n",
    "    r = model.predict(ndX)\n",
    "    \n",
    "    # converto r in valore reale, è scalato tra 0 e 1\n",
    "    nextdayPredict = scaler.inverse_transform(r)\n",
    "\n",
    "    # appendo all'array il nuovo valore ed elimino il primo per eseguire la reegressione del valore successivo\n",
    "    dataset = np.delete(dataset, 0,0)\n",
    "    dataset = np.append(dataset, r,0)\n",
    "    next_week = np.append(next_week, nextdayPredict)\n",
    "    \n",
    "# imposto la variabile d con la data di oggi\n",
    "d = date.today()\n",
    "print(d)"
   ]
  },
  {
   "cell_type": "code",
   "execution_count": 9,
   "metadata": {},
   "outputs": [],
   "source": [
    "# Creo il nuovo dataset\n",
    "df_previsione = pd.DataFrame(pd.date_range(start=d + dt.timedelta(days=1), periods=7),columns=['Data']).set_index(\"Data\")\n",
    "df_previsione['prev_nuovi_positivi'] = next_week"
   ]
  },
  {
   "cell_type": "code",
   "execution_count": 10,
   "metadata": {},
   "outputs": [
    {
     "data": {
      "text/html": [
       "<div>\n",
       "<style scoped>\n",
       "    .dataframe tbody tr th:only-of-type {\n",
       "        vertical-align: middle;\n",
       "    }\n",
       "\n",
       "    .dataframe tbody tr th {\n",
       "        vertical-align: top;\n",
       "    }\n",
       "\n",
       "    .dataframe thead th {\n",
       "        text-align: right;\n",
       "    }\n",
       "</style>\n",
       "<table border=\"1\" class=\"dataframe\">\n",
       "  <thead>\n",
       "    <tr style=\"text-align: right;\">\n",
       "      <th></th>\n",
       "      <th>nuovi_positivi</th>\n",
       "      <th>prev_nuovi_positivi</th>\n",
       "    </tr>\n",
       "  </thead>\n",
       "  <tbody>\n",
       "    <tr>\n",
       "      <th>2020-09-16</th>\n",
       "      <td>1452.0</td>\n",
       "      <td>NaN</td>\n",
       "    </tr>\n",
       "    <tr>\n",
       "      <th>2020-09-17</th>\n",
       "      <td>1585.0</td>\n",
       "      <td>NaN</td>\n",
       "    </tr>\n",
       "    <tr>\n",
       "      <th>2020-09-18</th>\n",
       "      <td>1907.0</td>\n",
       "      <td>NaN</td>\n",
       "    </tr>\n",
       "    <tr>\n",
       "      <th>2020-09-19</th>\n",
       "      <td>1638.0</td>\n",
       "      <td>NaN</td>\n",
       "    </tr>\n",
       "    <tr>\n",
       "      <th>2020-09-20</th>\n",
       "      <td>1587.0</td>\n",
       "      <td>NaN</td>\n",
       "    </tr>\n",
       "    <tr>\n",
       "      <th>2020-09-21</th>\n",
       "      <td>1350.0</td>\n",
       "      <td>NaN</td>\n",
       "    </tr>\n",
       "    <tr>\n",
       "      <th>2020-09-22</th>\n",
       "      <td>1392.0</td>\n",
       "      <td>NaN</td>\n",
       "    </tr>\n",
       "    <tr>\n",
       "      <th>2020-09-23</th>\n",
       "      <td>1640.0</td>\n",
       "      <td>NaN</td>\n",
       "    </tr>\n",
       "    <tr>\n",
       "      <th>2020-09-24</th>\n",
       "      <td>1786.0</td>\n",
       "      <td>NaN</td>\n",
       "    </tr>\n",
       "    <tr>\n",
       "      <th>2020-09-25</th>\n",
       "      <td>1912.0</td>\n",
       "      <td>NaN</td>\n",
       "    </tr>\n",
       "    <tr>\n",
       "      <th>2020-09-26</th>\n",
       "      <td>1869.0</td>\n",
       "      <td>NaN</td>\n",
       "    </tr>\n",
       "    <tr>\n",
       "      <th>2020-09-27</th>\n",
       "      <td>1766.0</td>\n",
       "      <td>NaN</td>\n",
       "    </tr>\n",
       "    <tr>\n",
       "      <th>2020-09-28</th>\n",
       "      <td>1494.0</td>\n",
       "      <td>NaN</td>\n",
       "    </tr>\n",
       "    <tr>\n",
       "      <th>2020-09-29</th>\n",
       "      <td>1648.0</td>\n",
       "      <td>NaN</td>\n",
       "    </tr>\n",
       "    <tr>\n",
       "      <th>2020-09-30</th>\n",
       "      <td>NaN</td>\n",
       "      <td>1827.0</td>\n",
       "    </tr>\n",
       "    <tr>\n",
       "      <th>2020-10-01</th>\n",
       "      <td>NaN</td>\n",
       "      <td>1885.0</td>\n",
       "    </tr>\n",
       "    <tr>\n",
       "      <th>2020-10-02</th>\n",
       "      <td>NaN</td>\n",
       "      <td>1863.0</td>\n",
       "    </tr>\n",
       "    <tr>\n",
       "      <th>2020-10-03</th>\n",
       "      <td>NaN</td>\n",
       "      <td>1750.0</td>\n",
       "    </tr>\n",
       "    <tr>\n",
       "      <th>2020-10-04</th>\n",
       "      <td>NaN</td>\n",
       "      <td>1659.0</td>\n",
       "    </tr>\n",
       "    <tr>\n",
       "      <th>2020-10-05</th>\n",
       "      <td>NaN</td>\n",
       "      <td>1691.0</td>\n",
       "    </tr>\n",
       "    <tr>\n",
       "      <th>2020-10-06</th>\n",
       "      <td>NaN</td>\n",
       "      <td>1740.0</td>\n",
       "    </tr>\n",
       "  </tbody>\n",
       "</table>\n",
       "</div>"
      ],
      "text/plain": [
       "            nuovi_positivi  prev_nuovi_positivi\n",
       "2020-09-16          1452.0                  NaN\n",
       "2020-09-17          1585.0                  NaN\n",
       "2020-09-18          1907.0                  NaN\n",
       "2020-09-19          1638.0                  NaN\n",
       "2020-09-20          1587.0                  NaN\n",
       "2020-09-21          1350.0                  NaN\n",
       "2020-09-22          1392.0                  NaN\n",
       "2020-09-23          1640.0                  NaN\n",
       "2020-09-24          1786.0                  NaN\n",
       "2020-09-25          1912.0                  NaN\n",
       "2020-09-26          1869.0                  NaN\n",
       "2020-09-27          1766.0                  NaN\n",
       "2020-09-28          1494.0                  NaN\n",
       "2020-09-29          1648.0                  NaN\n",
       "2020-09-30             NaN               1827.0\n",
       "2020-10-01             NaN               1885.0\n",
       "2020-10-02             NaN               1863.0\n",
       "2020-10-03             NaN               1750.0\n",
       "2020-10-04             NaN               1659.0\n",
       "2020-10-05             NaN               1691.0\n",
       "2020-10-06             NaN               1740.0"
      ]
     },
     "execution_count": 10,
     "metadata": {},
     "output_type": "execute_result"
    }
   ],
   "source": [
    "pd.concat([df,df_previsione.astype(int)])"
   ]
  },
  {
   "cell_type": "code",
   "execution_count": 11,
   "metadata": {},
   "outputs": [
    {
     "data": {
      "text/plain": [
       "[]"
      ]
     },
     "execution_count": 11,
     "metadata": {},
     "output_type": "execute_result"
    },
    {
     "data": {
      "text/plain": [
       "<Figure size 1584x576 with 0 Axes>"
      ]
     },
     "metadata": {},
     "output_type": "display_data"
    },
    {
     "data": {
      "image/png": "[encoded data removed]",
      "text/plain": [
       "<Figure size 1296x576 with 1 Axes>"
      ]
     },
     "metadata": {
      "needs_background": "light"
     },
     "output_type": "display_data"
    }
   ],
   "source": [
    "# plot baseline and predictions\n",
    "plt.figure(figsize=(22,8))\n",
    "ax = df.plot(use_index=True, y='nuovi_positivi', figsize=[18,8], title=\"COVID19 nuovi positivi in Italy\", xlabel=\"Data\", ylabel= \"Nuovi positivi\", legend=\"upper right\", label=\"Nuovi positivi\")\n",
    "ax = df_previsione.plot(ax=ax, use_index=True, y='prev_nuovi_positivi', figsize=[18,8], title=\"COVID19 nuovi positivi in Italy\", xlabel=\"Data\", ylabel= \"Nuovi positivi\", legend=\"upper right\", label =\"Forecast\")\n",
    "plt.plot()"
   ]
  },
  {
   "cell_type": "code",
   "execution_count": 12,
   "metadata": {},
   "outputs": [
    {
     "name": "stdout",
     "output_type": "stream",
     "text": [
      "            nuovi_positivi\n",
      "data                      \n",
      "2020-09-16            1452\n",
      "2020-09-17            1585\n",
      "2020-09-18            1907\n",
      "2020-09-19            1638\n",
      "2020-09-20            1587\n",
      "2020-09-21            1350\n",
      "2020-09-22            1392\n",
      "2020-09-23            1640\n",
      "2020-09-24            1786\n",
      "2020-09-25            1912\n",
      "2020-09-26            1869\n",
      "2020-09-27            1766\n",
      "2020-09-28            1494\n",
      "2020-09-29            1648\n",
      "            prev_nuovi_positivi\n",
      "Data                           \n",
      "2020-09-30          1827.166870\n",
      "2020-10-01          1885.438477\n",
      "2020-10-02          1863.265503\n",
      "2020-10-03          1750.682495\n",
      "2020-10-04          1659.903198\n",
      "2020-10-05          1691.589844\n",
      "2020-10-06          1740.121704\n"
     ]
    }
   ],
   "source": [
    "print(df)\n",
    "print(df_previsione)"
   ]
  },
  {
   "cell_type": "code",
   "execution_count": null,
   "metadata": {},
   "outputs": [],
   "source": []
  },
  {
   "cell_type": "code",
   "execution_count": 13,
   "metadata": {},
   "outputs": [],
   "source": [
    "df_previsione['Forecast'] = df_previsione['prev_nuovi_positivi'].astype(int)\n",
    "del df_previsione['prev_nuovi_positivi']"
   ]
  },
  {
   "cell_type": "code",
   "execution_count": 14,
   "metadata": {},
   "outputs": [
    {
     "data": {
      "text/html": [
       "<div>\n",
       "<style scoped>\n",
       "    .dataframe tbody tr th:only-of-type {\n",
       "        vertical-align: middle;\n",
       "    }\n",
       "\n",
       "    .dataframe tbody tr th {\n",
       "        vertical-align: top;\n",
       "    }\n",
       "\n",
       "    .dataframe thead th {\n",
       "        text-align: right;\n",
       "    }\n",
       "</style>\n",
       "<table border=\"1\" class=\"dataframe\">\n",
       "  <thead>\n",
       "    <tr style=\"text-align: right;\">\n",
       "      <th></th>\n",
       "      <th>Forecast</th>\n",
       "    </tr>\n",
       "    <tr>\n",
       "      <th>Data</th>\n",
       "      <th></th>\n",
       "    </tr>\n",
       "  </thead>\n",
       "  <tbody>\n",
       "    <tr>\n",
       "      <th>2020-09-30</th>\n",
       "      <td>1827</td>\n",
       "    </tr>\n",
       "    <tr>\n",
       "      <th>2020-10-01</th>\n",
       "      <td>1885</td>\n",
       "    </tr>\n",
       "    <tr>\n",
       "      <th>2020-10-02</th>\n",
       "      <td>1863</td>\n",
       "    </tr>\n",
       "    <tr>\n",
       "      <th>2020-10-03</th>\n",
       "      <td>1750</td>\n",
       "    </tr>\n",
       "    <tr>\n",
       "      <th>2020-10-04</th>\n",
       "      <td>1659</td>\n",
       "    </tr>\n",
       "    <tr>\n",
       "      <th>2020-10-05</th>\n",
       "      <td>1691</td>\n",
       "    </tr>\n",
       "    <tr>\n",
       "      <th>2020-10-06</th>\n",
       "      <td>1740</td>\n",
       "    </tr>\n",
       "  </tbody>\n",
       "</table>\n",
       "</div>"
      ],
      "text/plain": [
       "            Forecast\n",
       "Data                \n",
       "2020-09-30      1827\n",
       "2020-10-01      1885\n",
       "2020-10-02      1863\n",
       "2020-10-03      1750\n",
       "2020-10-04      1659\n",
       "2020-10-05      1691\n",
       "2020-10-06      1740"
      ]
     },
     "execution_count": 14,
     "metadata": {},
     "output_type": "execute_result"
    }
   ],
   "source": [
    "df_previsione"
   ]
  },
  {
   "cell_type": "code",
   "execution_count": null,
   "metadata": {},
   "outputs": [],
   "source": []
  }
 ],
 "metadata": {
  "kernelspec": {
   "display_name": "Python 3",
   "language": "python",
   "name": "python3"
  },
  "language_info": {
   "codemirror_mode": {
    "name": "ipython",
    "version": 3
   },
   "file_extension": ".py",
   "mimetype": "text/x-python",
   "name": "python",
   "nbconvert_exporter": "python",
   "pygments_lexer": "ipython3",
   "version": "3.8.5"
  }
 },
 "nbformat": 4,
 "nbformat_minor": 4
}
